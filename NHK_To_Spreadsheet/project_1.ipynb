{
  "nbformat": 4,
  "nbformat_minor": 0,
  "metadata": {
    "colab": {
      "name": "project_1.ipynb",
      "provenance": []
    },
    "kernelspec": {
      "name": "python3",
      "display_name": "Python 3"
    },
    "language_info": {
      "name": "python"
    }
  },
  "cells": [
    {
      "cell_type": "code",
      "metadata": {
        "id": "41DDFFkUC3Pe"
      },
      "source": [
        "!pip install beautifulsoup4\n",
        "!pip install gspread\n",
        "!pip install oauth2client\n",
        "!pip install gspread_dataframe"
      ],
      "execution_count": null,
      "outputs": []
    },
    {
      "cell_type": "code",
      "metadata": {
        "id": "xN6RehbrM_hf"
      },
      "source": [
        "from google.colab import drive\n",
        "drive.mount('/content/drive')"
      ],
      "execution_count": null,
      "outputs": []
    },
    {
      "cell_type": "code",
      "metadata": {
        "id": "NsbP7PEUz9O2"
      },
      "source": [
        "import requests\n",
        "from bs4 import BeautifulSoup\n",
        "import pandas as pd\n",
        "#nhknews\n",
        "url = \"https://www3.nhk.or.jp/news/catnew.html?utm_int=all_header_menu_news-new\"\n",
        "r = requests.get(url)\n",
        "soup = BeautifulSoup(r.content, \"html.parser\")\n",
        "textlist1 = soup.select(\"[class='title']\")\n",
        "textlist2 = [val.getText() for val in textlist1]\n",
        "textlist3 = pd.DataFrame(textlist2)"
      ],
      "execution_count": 43,
      "outputs": []
    },
    {
      "cell_type": "code",
      "metadata": {
        "id": "YparBU_Mz9x8"
      },
      "source": [
        "###GCPのプロジェクトを作成\n",
        "####https://console.cloud.google.comにアクセス\n",
        "###Google Drive APIを有効にする\n",
        "###Google Sheets APIを有効にする\n",
        "###外部アプリからスプレッドシートにアクセスするための認証情報を設定\n",
        "###スプレッドシート側の共有設定\n",
        "###実際にプログラムを書く\n",
        "\n",
        "import gspread\n",
        "from oauth2client.service_account import ServiceAccountCredentials\n",
        "\n",
        "#JSONファイルを使って、認証樹王法を取得\n",
        "SCOPES = [\"https://spreadsheets.google.com/feeds\", \"https://www.googleapis.com/auth/drive\"]\n",
        "\n",
        "#pathを指定\n",
        "PATH = \"/content/drive/MyDrive/Dev/project_1/\"\n",
        "SERVICE_ACCOUNT_FILE = PATH + \"my-project-1-322512-83aca42d6b7e.json\""
      ],
      "execution_count": null,
      "outputs": []
    },
    {
      "cell_type": "code",
      "metadata": {
        "id": "F6UwS0LAz9if"
      },
      "source": [
        "#from_json_keyfile_name関数を使って認証情報を作成\n",
        "credentials = ServiceAccountCredentials.from_json_keyfile_name(SERVICE_ACCOUNT_FILE, SCOPES)"
      ],
      "execution_count": 26,
      "outputs": []
    },
    {
      "cell_type": "code",
      "metadata": {
        "id": "N5exwoBCOZFc"
      },
      "source": [
        "#認証情報を使ってスプシの操作権を取得\n",
        "gs = gspread.authorize(credentials)\n",
        "\n",
        "#共有したスプレッドシートのキーを使ってシートの情報を取得\n",
        "SPREADSHEET_KEY = \"1iZXtu2njvlsdXoKSOWwjcnrZZ94uoYhd5yceLTpuM-w\"\n",
        "worksheet = gs.open_by_key(SPREADSHEET_KEY).worksheet(\"シート1\")"
      ],
      "execution_count": 28,
      "outputs": []
    },
    {
      "cell_type": "code",
      "metadata": {
        "id": "E1ZhvoBYOY5t"
      },
      "source": [
        "#特定のシートのセルの値を取得\n",
        "# print(worksheet.acell(\"G2\").value)"
      ],
      "execution_count": null,
      "outputs": []
    },
    {
      "cell_type": "code",
      "metadata": {
        "id": "-GJ4b4AESiZB"
      },
      "source": [
        "from gspread_dataframe import set_with_dataframe\n",
        "workbook = gs.open_by_key(SPREADSHEET_KEY)\n",
        "worksheet = workbook.worksheet(\"シート1\")\n",
        "\n",
        "set_with_dataframe(workbook.worksheet(\"シート1\"), textlist3, include_index = True)"
      ],
      "execution_count": 32,
      "outputs": []
    }
  ]
}